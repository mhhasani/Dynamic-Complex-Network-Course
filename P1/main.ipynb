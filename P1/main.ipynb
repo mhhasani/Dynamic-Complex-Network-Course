{
 "cells": [
  {
   "cell_type": "code",
   "execution_count": 1,
   "metadata": {},
   "outputs": [
    {
     "name": "stdout",
     "output_type": "stream",
     "text": [
      "Number of nodes in the subgraph: 1615\n",
      "Number of edges in the subgraph before removal: 13453\n",
      "Number of edges removed: 1345\n",
      "Number of edges remaining: 12108\n"
     ]
    }
   ],
   "source": [
    "import networkx as nx\n",
    "import pandas as pd\n",
    "import numpy as np\n",
    "\n",
    "# Load the dataset\n",
    "edges_path = \"facebook_combined.txt\"\n",
    "edges = pd.read_csv(edges_path, delim_whitespace=True, header=None, names=[\"source\", \"target\"])\n",
    "\n",
    "# Remove duplicate edges\n",
    "edges = edges.drop_duplicates()\n",
    "\n",
    "# Create the graph\n",
    "G = nx.from_pandas_edgelist(edges, \"source\", \"target\")\n",
    "\n",
    "# Sampling 40% of the nodes\n",
    "np.random.seed(42)  # For reproducibility\n",
    "nodes = list(G.nodes())\n",
    "nodes_to_keep = np.random.choice(nodes, size=int(0.40 * len(nodes)), replace=False)\n",
    "\n",
    "# Create a subgraph with the selected nodes\n",
    "G = G.subgraph(nodes_to_keep).copy()  # Use copy() to create a modifiable graph\n",
    "nodes = list(G.nodes())\n",
    "\n",
    "# Randomly select edges to remove (let's remove 10% of the edges)\n",
    "np.random.seed(42)  # For reproducibility\n",
    "num_edges_to_remove = int(G.number_of_edges() * 0.1)\n",
    "\n",
    "# Convert edges to a list to make them 1-dimensional for random selection\n",
    "edges_list = list(G.edges())\n",
    "edges_to_remove_indexes = np.random.choice(len(edges_list), size=num_edges_to_remove, replace=False)\n",
    "\n",
    "# Now select the actual edges to remove based on their index\n",
    "edges_to_remove = [edges_list[index] for index in edges_to_remove_indexes]\n",
    "\n",
    "# Remove the selected edges\n",
    "G.remove_edges_from(edges_to_remove)\n",
    "\n",
    "# Output the number of edges removed and the remaining number of edges\n",
    "num_edges_removed = len(edges_to_remove)\n",
    "num_edges_remaining = G.number_of_edges()\n",
    "\n",
    "print(f\"Number of nodes in the subgraph: {G.number_of_nodes()}\")\n",
    "print(f\"Number of edges in the subgraph before removal: {G.number_of_edges() + num_edges_removed}\")\n",
    "print(f\"Number of edges removed: {num_edges_removed}\")\n",
    "print(f\"Number of edges remaining: {G.number_of_edges()}\")"
   ]
  },
  {
   "cell_type": "code",
   "execution_count": 2,
   "metadata": {},
   "outputs": [],
   "source": [
    "# Function to calculate Jaccard Coefficient for all pairs of nodes\n",
    "def jaccard_coefficient(G):\n",
    "    preds = nx.jaccard_coefficient(G)\n",
    "    return {(u, v): p for u, v, p in preds}\n",
    "\n",
    "\n",
    "# Function to calculate Adamic/Adar index for all pairs of nodes\n",
    "def adamic_adar_index(G):\n",
    "    preds = nx.adamic_adar_index(G)\n",
    "    return {(u, v): p for u, v, p in preds}\n",
    "\n",
    "\n",
    "# Function to calculate number of common neighbors for all pairs of nodes\n",
    "def common_neighbors(G):\n",
    "    return {(u, v): len(list(nx.common_neighbors(G, u, v))) for u, v in nx.non_edges(G)}\n",
    "\n",
    "\n",
    "# Function to calculate Resource Allocation index for all pairs of nodes\n",
    "def resource_allocation_index(G):\n",
    "    preds = nx.resource_allocation_index(G)\n",
    "    return {(u, v): p for u, v, p in preds}\n",
    "\n",
    "\n",
    "def recommend_nodes_fixed(similarity_df, sample_nodes, metric=\"Jaccard\", top_n=5):\n",
    "    recommendations = {}\n",
    "    expanded_df = similarity_df.copy()\n",
    "    expanded_df[[\"Node1\", \"Node2\"]] = pd.DataFrame(expanded_df[\"Edge\"].tolist(), index=expanded_df.index)\n",
    "\n",
    "    for node in sample_nodes:\n",
    "        node_edges = expanded_df[(expanded_df[\"Node1\"] == node) | (expanded_df[\"Node2\"] == node)]\n",
    "        sorted_edges = node_edges.sort_values(by=[metric], ascending=False).head(top_n)\n",
    "        recommended_nodes = sorted_edges.apply(lambda x: x[\"Node2\"] if x[\"Node1\"] == node else x[\"Node1\"], axis=1).tolist()\n",
    "        recommendations[node] = recommended_nodes\n",
    "\n",
    "    return recommendations\n",
    "\n",
    "\n",
    "def generate_predicted_edges(recommendations, node):\n",
    "    predicted_edges = [(node, recommended_node) for recommended_node in recommendations.get(node, [])]\n",
    "    return predicted_edges"
   ]
  },
  {
   "cell_type": "code",
   "execution_count": 3,
   "metadata": {},
   "outputs": [
    {
     "name": "stdout",
     "output_type": "stream",
     "text": [
      "Jaccard: 44.91%, (604 out of 1345)\n",
      "Adamic/Adar: 46.54%, (626 out of 1345)\n",
      "Common Neighbors: 45.43%, (611 out of 1345)\n",
      "Resource Allocation: 47.14%, (634 out of 1345)\n"
     ]
    }
   ],
   "source": [
    "# Recalculate similarity metrics for the subgraph\n",
    "jaccard_sim_sub = jaccard_coefficient(G)\n",
    "adamic_adar_sim_sub = adamic_adar_index(G)\n",
    "common_neighbors_sub = common_neighbors(G)\n",
    "resource_allocation_sub = resource_allocation_index(G)\n",
    "\n",
    "# Convert similarity metrics to DataFrame for easier handling\n",
    "jaccard_df = pd.DataFrame(list(jaccard_sim_sub.items()), columns=[\"Edge\", \"Jaccard\"])\n",
    "adamic_adar_df = pd.DataFrame(list(adamic_adar_sim_sub.items()), columns=[\"Edge\", \"Adamic/Adar\"])\n",
    "common_neighbors_df = pd.DataFrame(list(common_neighbors_sub.items()), columns=[\"Edge\", \"Common Neighbors\"])\n",
    "resource_allocation_df = pd.DataFrame(list(resource_allocation_sub.items()), columns=[\"Edge\", \"Resource Allocation\"])\n",
    "\n",
    "# Merge DataFrames on the 'Edge' column to have all similarities side by side\n",
    "similarity_df = pd.merge(jaccard_df, adamic_adar_df, on=\"Edge\")\n",
    "similarity_df = pd.merge(similarity_df, common_neighbors_df, on=\"Edge\", how=\"outer\")\n",
    "similarity_df = pd.merge(similarity_df, resource_allocation_df, on=\"Edge\", how=\"outer\")\n",
    "\n",
    "# Sort the DataFrame by all similarity measures in descending order\n",
    "similarity_df.sort_values(by=[\"Jaccard\", \"Adamic/Adar\", \"Common Neighbors\", \"Resource Allocation\"], ascending=False, inplace=True)\n",
    "\n",
    "# Show the first few rows of the merged and sorted DataFrame\n",
    "similarity_df.head()\n",
    "\n",
    "# calculate recommendations\n",
    "recommendations_jaccard_fixed = recommend_nodes_fixed(similarity_df, nodes, metric=\"Jaccard\")\n",
    "recommendations_adamic_adar_fixed = recommend_nodes_fixed(similarity_df, nodes, metric=\"Adamic/Adar\")\n",
    "recommendations_common_neighbors_fixed = recommend_nodes_fixed(similarity_df, nodes, metric=\"Common Neighbors\")\n",
    "recommendations_resource_allocation_fixed = recommend_nodes_fixed(similarity_df, nodes, metric=\"Resource Allocation\")\n",
    "\n",
    "dict(list(recommendations_jaccard_fixed.items())[:5]), dict(list(recommendations_adamic_adar_fixed.items())[:5]), dict(\n",
    "    list(recommendations_common_neighbors_fixed.items())[:5]\n",
    "), dict(list(recommendations_resource_allocation_fixed.items())[:5])\n",
    "\n",
    "# تولید پیوندهای پیش‌بینی شده بر اساس توصیه‌ها برای تمام معیارهای شباهت\n",
    "all_predicted_edges_jaccard = []\n",
    "all_predicted_edges_adamic_adar = []\n",
    "all_predicted_edges_common_neighbors = []\n",
    "all_predicted_edges_resource_allocation = []\n",
    "\n",
    "# تولید و افزودن پیوندهای پیش‌بینی شده به لیست‌های مربوطه برای هر معیار\n",
    "for node in nodes:\n",
    "    all_predicted_edges_jaccard.extend(generate_predicted_edges(recommendations_jaccard_fixed, node))\n",
    "    all_predicted_edges_adamic_adar.extend(generate_predicted_edges(recommendations_adamic_adar_fixed, node))\n",
    "    all_predicted_edges_common_neighbors.extend(generate_predicted_edges(recommendations_common_neighbors_fixed, node))\n",
    "    all_predicted_edges_resource_allocation.extend(generate_predicted_edges(recommendations_resource_allocation_fixed, node))\n",
    "\n",
    "# حذف تکراری‌ها از لیست‌های پیوندهای پیش‌بینی شده برای هر معیار\n",
    "unique_predicted_edges_jaccard = set(all_predicted_edges_jaccard)\n",
    "unique_predicted_edges_adamic_adar = set(all_predicted_edges_adamic_adar)\n",
    "unique_predicted_edges_common_neighbors = set(all_predicted_edges_common_neighbors)\n",
    "unique_predicted_edges_resource_allocation = set(all_predicted_edges_resource_allocation)\n",
    "\n",
    "# پیدا کردن تطابق‌ها بین پیوندهای پیش‌بینی شده و پیوندهای حذف‌شده برای هر معیار\n",
    "removed_edges_set = set(edges_to_remove)\n",
    "matches_jaccard = [edge for edge in unique_predicted_edges_jaccard if edge in removed_edges_set]\n",
    "matches_adamic_adar = [edge for edge in unique_predicted_edges_adamic_adar if edge in removed_edges_set]\n",
    "matches_common_neighbors = [edge for edge in unique_predicted_edges_common_neighbors if edge in removed_edges_set]\n",
    "matches_resource_allocation = [edge for edge in unique_predicted_edges_resource_allocation if edge in removed_edges_set]\n",
    "\n",
    "# درصد تطابق برای هر معیار\n",
    "match_percent_jaccard = len(matches_jaccard) / len(removed_edges_set) * 100\n",
    "match_percent_adamic_adar = len(matches_adamic_adar) / len(removed_edges_set) * 100\n",
    "match_percent_common_neighbors = len(matches_common_neighbors) / len(removed_edges_set) * 100\n",
    "match_percent_resource_allocation = len(matches_resource_allocation) / len(removed_edges_set) * 100\n",
    "\n",
    "# چاپ درصد تطابق برای هر معیار\n",
    "print(f\"Jaccard: {match_percent_jaccard:.2f}%, ({len(matches_jaccard)} out of {len(removed_edges_set)})\")\n",
    "print(f\"Adamic/Adar: {match_percent_adamic_adar:.2f}%, ({len(matches_adamic_adar)} out of {len(removed_edges_set)})\")\n",
    "print(\n",
    "    f\"Common Neighbors: {match_percent_common_neighbors:.2f}%, ({len(matches_common_neighbors)} out of {len(removed_edges_set)})\"\n",
    ")\n",
    "print(\n",
    "    f\"Resource Allocation: {match_percent_resource_allocation:.2f}%, ({len(matches_resource_allocation)} out of {len(removed_edges_set)})\"\n",
    ")"
   ]
  },
  {
   "cell_type": "code",
   "execution_count": 9,
   "metadata": {},
   "outputs": [],
   "source": [
    "import matplotlib.pyplot as plt\n",
    "\n",
    "\n",
    "def plot_edges(edges):\n",
    "    plt.figure(figsize=(10, 10))\n",
    "    plt.plot(edges[\"source\"], edges[\"target\"], \"b,\")\n",
    "    plt.xlabel(\"Source\")\n",
    "    plt.ylabel(\"Target\")\n",
    "    plt.title(\"Graph of Edges\")\n",
    "    plt.show()"
   ]
  },
  {
   "cell_type": "code",
   "execution_count": 26,
   "metadata": {},
   "outputs": [
    {
     "data": {
      "image/png": "[encoded data removed]",
      "text/plain": [
       "<Figure size 1000x1000 with 1 Axes>"
      ]
     },
     "metadata": {},
     "output_type": "display_data"
    },
    {
     "name": "stdout",
     "output_type": "stream",
     "text": [
      "176468\n"
     ]
    }
   ],
   "source": [
    "import networkx as nx\n",
    "from sklearn.model_selection import train_test_split\n",
    "from sklearn.ensemble import RandomForestClassifier\n",
    "from sklearn.metrics import accuracy_score\n",
    "\n",
    "\n",
    "# Load the dataset\n",
    "edges_path = \"facebook_combined.txt\"\n",
    "edges = pd.read_csv(edges_path, delim_whitespace=True, header=None, names=[\"source\", \"target\"])\n",
    "\n",
    "plot_edges(edges)\n",
    "\n",
    "# Remove duplicate edges\n",
    "edges = edges.drop_duplicates()\n",
    "\n",
    "\n",
    "# Create the graph\n",
    "G = nx.from_pandas_edgelist(edges, \"source\", \"target\")\n",
    "\n",
    "\n",
    "# Step 1: Generate negative samples (non-edges) for a balanced dataset\n",
    "def generate_negative_edges(G, num_neg_samples):\n",
    "    negative_edges = set()\n",
    "    while len(negative_edges) < num_neg_samples:\n",
    "        u, v = np.random.choice(G.nodes(), 2, replace=False)\n",
    "        if not G.has_edge(u, v):\n",
    "            negative_edges.add((u, v))\n",
    "    return list(negative_edges)\n",
    "\n",
    "\n",
    "# Number of positive samples (existing edges)\n",
    "num_pos_samples = len(G.edges())\n",
    "negative_edges = generate_negative_edges(G, num_pos_samples)\n",
    "\n",
    "# Step 2: Create a balanced dataset\n",
    "positive_edges = list(G.edges())\n",
    "positive_labels = [1] * len(positive_edges)\n",
    "negative_labels = [0] * len(negative_edges)\n",
    "\n",
    "# Combine positive and negative samples\n",
    "all_edges = positive_edges + negative_edges\n",
    "all_labels = positive_labels + negative_labels\n",
    "\n",
    "\n",
    "# Step 3: Extract features for all samples\n",
    "def extract_features(G, edge):\n",
    "    u, v = edge\n",
    "    return [\n",
    "        len(list(nx.common_neighbors(G, u, v))),\n",
    "        list(nx.jaccard_coefficient(G, [(u, v)]))[0][2],\n",
    "        list(nx.adamic_adar_index(G, [(u, v)]))[0][2],\n",
    "        list(nx.resource_allocation_index(G, [(u, v)]))[0][2],\n",
    "    ]\n",
    "\n",
    "\n",
    "features = [extract_features(G, edge) for edge in all_edges]\n",
    "print(len(features))\n",
    "\n"
   ]
  },
  {
   "cell_type": "code",
   "execution_count": 20,
   "metadata": {},
   "outputs": [],
   "source": [
    "# Step 4: Split the dataset into training and testing sets\n",
    "X_train, X_test, y_train, y_test = train_test_split(features, all_labels, test_size=0.3)\n",
    "\n",
    "\n",
    "# Step 5: Train the RandomForestClassifier\n",
    "model = RandomForestClassifier(n_estimators=100)\n",
    "model.fit(X_train, y_train)\n",
    "\n",
    "# Step 6: Predict and evaluate the model\n",
    "predictions = model.predict(X_test)"
   ]
  },
  {
   "cell_type": "code",
   "execution_count": 24,
   "metadata": {},
   "outputs": [
    {
     "name": "stdout",
     "output_type": "stream",
     "text": [
      "Accuracy: 0.978126594\n",
      "Precision: 0.974492863\n",
      "Recall: 0.981869796\n",
      "F1-Score: 0.978167421\n"
     ]
    }
   ],
   "source": [
    "from sklearn.metrics import precision_score, recall_score, f1_score\n",
    "\n",
    "accuracy = accuracy_score(y_test, predictions)\n",
    "precision = precision_score(y_test, predictions)\n",
    "recall = recall_score(y_test, predictions)\n",
    "f1 = f1_score(y_test, predictions)\n",
    "\n",
    "print(f\"Accuracy: {accuracy:.9f}\")\n",
    "print(f\"Precision: {precision:.9f}\")\n",
    "print(f\"Recall: {recall:.9f}\")\n",
    "print(f\"F1-Score: {f1:.9f}\")"
   ]
  },
  {
   "cell_type": "code",
   "execution_count": 25,
   "metadata": {},
   "outputs": [
    {
     "name": "stdout",
     "output_type": "stream",
     "text": [
      "Accuracy on training set: 0.995507055\n"
     ]
    }
   ],
   "source": [
    "# check if the model is overfitting\n",
    "predictions_train = model.predict(X_train)\n",
    "accuracy_train = accuracy_score(y_train, predictions_train)\n",
    "print(f\"Accuracy on training set: {accuracy_train:.9f}\")"
   ]
  }
 ],
 "metadata": {
  "kernelspec": {
   "display_name": "Python 3",
   "language": "python",
   "name": "python3"
  },
  "language_info": {
   "codemirror_mode": {
    "name": "ipython",
    "version": 3
   },
   "file_extension": ".py",
   "mimetype": "text/x-python",
   "name": "python",
   "nbconvert_exporter": "python",
   "pygments_lexer": "ipython3",
   "version": "3.10.12"
  }
 },
 "nbformat": 4,
 "nbformat_minor": 2
}
